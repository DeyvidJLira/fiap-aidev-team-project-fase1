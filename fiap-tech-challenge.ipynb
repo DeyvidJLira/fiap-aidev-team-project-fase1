{
 "cells": [
  {
   "cell_type": "code",
   "execution_count": 27,
   "id": "initial_id",
   "metadata": {
    "ExecuteTime": {
     "end_time": "2024-07-15T01:36:12.832561Z",
     "start_time": "2024-07-15T01:36:12.830005Z"
    },
    "collapsed": true
   },
   "outputs": [],
   "source": [
    "import pandas as pd\n",
    "import numpy as np\n",
    "from scipy import stats\n",
    "from sklearn.model_selection import train_test_split\n",
    "from sklearn.linear_model import LinearRegression\n",
    "from sklearn.metrics import mean_absolute_percentage_error"
   ]
  },
  {
   "cell_type": "markdown",
   "id": "59e1ad884df0a84f",
   "metadata": {
    "collapsed": false
   },
   "source": [
    "# Criando novas variáveis "
   ]
  },
  {
   "cell_type": "code",
   "execution_count": 28,
   "id": "cc08e20be527ca4",
   "metadata": {
    "ExecuteTime": {
     "end_time": "2024-07-15T01:36:12.931514Z",
     "start_time": "2024-07-15T01:36:12.921683Z"
    },
    "collapsed": false
   },
   "outputs": [
    {
     "name": "stdout",
     "output_type": "stream",
     "text": [
      "fx_idade\n",
      "adulto    538\n",
      "jovem     444\n",
      "idoso     356\n",
      "Name: count, dtype: int64\n",
      "imc_table\n",
      "Obesidade I       388\n",
      "Acima do peso     377\n",
      "Obesidade II      225\n",
      "Peso normal       222\n",
      "Obesidade III     106\n",
      "Abaixo do peso     20\n",
      "Name: count, dtype: int64\n",
      "tem_filho\n",
      "1    764\n",
      "0    574\n",
      "Name: count, dtype: int64\n"
     ]
    }
   ],
   "source": [
    "# Supondo que bd_full seja o seu DataFrame\n",
    "bd_full = pd.read_csv('insurance_novo.csv', delimiter=',')\n",
    "\n",
    "bd_full.rename(columns={\"age\":\"idade\"\n",
    " ,\"sex\":\"gênero\"\n",
    " ,\"bmi\":\"imc\"\n",
    " ,\"children\":\"filhos\"\n",
    " ,\"smoker\":\"fumante\"\n",
    " ,\"region\":\"região\"\n",
    " ,\"charges\":\"encargos\"}, inplace=True)\n",
    "\n",
    "\n",
    "\n",
    "# Faixas etárias\n",
    "bd_full['fx_idade'] = np.where(bd_full['idade'] <= 30, 'jovem',\n",
    "                               np.where((bd_full['idade'] > 30) & (bd_full['idade'] <= 50), 'adulto',\n",
    "                                        np.where((bd_full['idade'] > 50) & (bd_full['idade'] <= 70), 'idoso',\n",
    "                                                 'idoso_master')))\n",
    "print(bd_full['fx_idade'].value_counts())\n",
    "\n",
    "# Faixas de IMC\n",
    "bd_full['imc_table'] = np.where(bd_full['imc'] <= 18.4, 'Abaixo do peso',\n",
    "                                np.where((bd_full['imc'] >= 18.5) & (bd_full['imc'] <= 24.9), 'Peso normal',\n",
    "                                         np.where((bd_full['imc'] >= 25) & (bd_full['imc'] <= 29.9), 'Acima do peso',\n",
    "                                                  np.where((bd_full['imc'] >= 30) & (bd_full['imc'] <= 34.9), 'Obesidade I',\n",
    "                                                           np.where((bd_full['imc'] >= 35) & (bd_full['imc'] <= 40), 'Obesidade II',\n",
    "                                                                    'Obesidade III')))))\n",
    "print(bd_full['imc_table'].value_counts())\n",
    "\n",
    "# Variável indicando se a pessoa tem filhos\n",
    "bd_full['tem_filho'] = np.where(bd_full['filhos'] > 0, 1, 0)\n",
    "print(bd_full['tem_filho'].value_counts())\n"
   ]
  },
  {
   "cell_type": "markdown",
   "id": "a1c3b3a0b72e8975",
   "metadata": {
    "collapsed": false
   },
   "source": [
    "# Tratando variáveis categóricas como numéricas\n"
   ]
  },
  {
   "cell_type": "code",
   "execution_count": 29,
   "id": "67251585d49c5b62",
   "metadata": {
    "ExecuteTime": {
     "end_time": "2024-07-15T01:36:12.937023Z",
     "start_time": "2024-07-15T01:36:12.931514Z"
    },
    "collapsed": false
   },
   "outputs": [
    {
     "name": "stdout",
     "output_type": "stream",
     "text": [
      "gênero\n",
      "male      676\n",
      "female    662\n",
      "Name: count, dtype: int64\n",
      "fumante\n",
      "9    1064\n",
      "1     274\n",
      "Name: count, dtype: int64\n",
      "região2\n",
      "3    364\n",
      "4    325\n",
      "2    325\n",
      "1    324\n",
      "Name: count, dtype: int64\n"
     ]
    }
   ],
   "source": [
    "# Variável de sexo \n",
    "bd_full['gênero2'] = np.where(bd_full['gênero'] == 'female', 2,1)\n",
    "print(bd_full['gênero'].value_counts())\n",
    "\n",
    "# Variável indicado se a pessoa é fumante\n",
    "bd_full['fumante'] = np.where(bd_full['fumante'] == 'yes', 1, 9)\n",
    "print(bd_full['fumante'].value_counts())\n",
    "\n",
    "# Variável de região\n",
    "bd_full['região2'] = np.where(bd_full['região'] == 'northeast', 1,\n",
    "                             np.where(bd_full['região'] == 'northwest', 2,\n",
    "                                      np.where(bd_full['região'] == 'southeast', 3, 4)))\n",
    "print(bd_full['região2'].value_counts())\n"
   ]
  },
  {
   "cell_type": "markdown",
   "id": "f244966e0191da9d",
   "metadata": {
    "collapsed": false
   },
   "source": [
    "# Seleção de variáveis para análise de correlação"
   ]
  },
  {
   "cell_type": "code",
   "execution_count": 30,
   "id": "65d9b6e10a91be01",
   "metadata": {
    "ExecuteTime": {
     "end_time": "2024-07-15T01:36:12.942801Z",
     "start_time": "2024-07-15T01:36:12.937023Z"
    },
    "collapsed": false
   },
   "outputs": [
    {
     "name": "stdout",
     "output_type": "stream",
     "text": [
      "              idade       imc    filhos  tem_filho   gênero2   região2\n",
      "idade      1.000000  0.109272  0.042469   0.047075  0.020856  0.002127\n",
      "imc        0.109272  1.000000  0.012759   0.016082 -0.046371  0.157566\n",
      "filhos     0.042469  0.012759  1.000000   0.787569 -0.017163  0.016569\n",
      "tem_filho  0.047075  0.016082  0.787569   1.000000 -0.015111  0.013685\n",
      "gênero2    0.020856 -0.046371 -0.017163  -0.015111  1.000000 -0.004588\n",
      "região2    0.002127  0.157566  0.016569   0.013685 -0.004588  1.000000\n"
     ]
    }
   ],
   "source": [
    "bd_corr = bd_full[['idade', 'imc', 'filhos', 'tem_filho', 'gênero2', 'região2']]\n",
    "print(bd_corr.corr())"
   ]
  },
  {
   "cell_type": "markdown",
   "id": "c55848794c71290",
   "metadata": {
    "collapsed": false
   },
   "source": [
    "# Análise Descritiva Univariada "
   ]
  },
  {
   "cell_type": "markdown",
   "id": "93e76f0a72293fcf",
   "metadata": {
    "collapsed": false
   },
   "source": [
    "### Idade"
   ]
  },
  {
   "cell_type": "code",
   "execution_count": 31,
   "id": "b0ec8fa5460b2422",
   "metadata": {
    "ExecuteTime": {
     "end_time": "2024-07-15T01:36:12.948278Z",
     "start_time": "2024-07-15T01:36:12.943744Z"
    },
    "collapsed": false
   },
   "outputs": [
    {
     "name": "stdout",
     "output_type": "stream",
     "text": [
      "count    1338.000000\n",
      "mean       39.207025\n",
      "std        14.049960\n",
      "min        18.000000\n",
      "25%        27.000000\n",
      "50%        39.000000\n",
      "75%        51.000000\n",
      "max        64.000000\n",
      "Name: idade, dtype: float64\n",
      "DescribeResult(nobs=1338, minmax=(18, 64), mean=39.20702541106129, variance=197.40138665754378, skewness=0.055610083072599126, kurtosis=-1.2449206804584227)\n"
     ]
    }
   ],
   "source": [
    "print(bd_full['idade'].describe())\n",
    "print(stats.describe(bd_full['idade']))\n",
    "\n"
   ]
  },
  {
   "cell_type": "markdown",
   "id": "7e4c34b8034f49d5",
   "metadata": {
    "collapsed": false
   },
   "source": [
    "### Sexo"
   ]
  },
  {
   "cell_type": "code",
   "execution_count": 32,
   "id": "c6a6eb33aa66cdc0",
   "metadata": {
    "ExecuteTime": {
     "end_time": "2024-07-15T01:36:12.952157Z",
     "start_time": "2024-07-15T01:36:12.948278Z"
    },
    "collapsed": false
   },
   "outputs": [
    {
     "name": "stdout",
     "output_type": "stream",
     "text": [
      "gênero\n",
      "male      676\n",
      "female    662\n",
      "Name: count, dtype: int64\n"
     ]
    }
   ],
   "source": [
    "print(bd_full['gênero'].value_counts())"
   ]
  },
  {
   "cell_type": "markdown",
   "id": "5109bbf96ff77d19",
   "metadata": {
    "collapsed": false
   },
   "source": [
    "### IMC"
   ]
  },
  {
   "cell_type": "code",
   "execution_count": 33,
   "id": "305a870d2015dd15",
   "metadata": {
    "ExecuteTime": {
     "end_time": "2024-07-15T01:36:12.959555Z",
     "start_time": "2024-07-15T01:36:12.952157Z"
    },
    "collapsed": false
   },
   "outputs": [
    {
     "name": "stdout",
     "output_type": "stream",
     "text": [
      "count    1338.000000\n",
      "mean       30.663397\n",
      "std         6.098187\n",
      "min        15.960000\n",
      "25%        26.296250\n",
      "50%        30.400000\n",
      "75%        34.693750\n",
      "max        53.130000\n",
      "Name: imc, dtype: float64\n",
      "DescribeResult(nobs=1338, minmax=(15.96, 53.13), mean=30.66339686098655, variance=37.18788360977324, skewness=0.28372857291709386, kurtosis=-0.05502310583700032)\n"
     ]
    }
   ],
   "source": [
    "print(bd_full['imc'].describe())\n",
    "print(stats.describe(bd_full['imc']))"
   ]
  },
  {
   "cell_type": "markdown",
   "id": "e71b4c196502a414",
   "metadata": {
    "collapsed": false
   },
   "source": [
    "### Filhos"
   ]
  },
  {
   "cell_type": "code",
   "execution_count": 34,
   "id": "12658a90d3955c54",
   "metadata": {
    "ExecuteTime": {
     "end_time": "2024-07-15T01:36:12.963088Z",
     "start_time": "2024-07-15T01:36:12.959555Z"
    },
    "collapsed": false
   },
   "outputs": [
    {
     "name": "stdout",
     "output_type": "stream",
     "text": [
      "filhos\n",
      "0    574\n",
      "1    324\n",
      "2    240\n",
      "3    157\n",
      "4     25\n",
      "5     18\n",
      "Name: count, dtype: int64\n"
     ]
    }
   ],
   "source": [
    "print(bd_full['filhos'].value_counts())"
   ]
  },
  {
   "cell_type": "markdown",
   "id": "1fd6c194b383f894",
   "metadata": {
    "collapsed": false
   },
   "source": [
    "### Fumantes"
   ]
  },
  {
   "cell_type": "code",
   "execution_count": 35,
   "id": "c7763b9d917d261b",
   "metadata": {
    "ExecuteTime": {
     "end_time": "2024-07-15T01:36:12.994917Z",
     "start_time": "2024-07-15T01:36:12.991953Z"
    },
    "collapsed": false
   },
   "outputs": [
    {
     "name": "stdout",
     "output_type": "stream",
     "text": [
      "fumante\n",
      "9    1064\n",
      "1     274\n",
      "Name: count, dtype: int64\n"
     ]
    }
   ],
   "source": [
    "print(bd_full['fumante'].value_counts())"
   ]
  },
  {
   "cell_type": "markdown",
   "id": "b3617d43c96e6d82",
   "metadata": {
    "collapsed": false
   },
   "source": [
    "### Região"
   ]
  },
  {
   "cell_type": "code",
   "execution_count": 36,
   "id": "de5187e4af3ee4fc",
   "metadata": {
    "ExecuteTime": {
     "end_time": "2024-07-15T01:36:13.007023Z",
     "start_time": "2024-07-15T01:36:13.004003Z"
    },
    "collapsed": false
   },
   "outputs": [
    {
     "name": "stdout",
     "output_type": "stream",
     "text": [
      "região\n",
      "southeast    364\n",
      "southwest    325\n",
      "northwest    325\n",
      "northeast    324\n",
      "Name: count, dtype: int64\n"
     ]
    }
   ],
   "source": [
    "print(bd_full['região'].value_counts())"
   ]
  },
  {
   "cell_type": "markdown",
   "id": "6c53055cef272f9",
   "metadata": {
    "collapsed": false
   },
   "source": [
    "# Análise Descritiva Bivariada"
   ]
  },
  {
   "cell_type": "markdown",
   "id": "21e2218f82730837",
   "metadata": {
    "collapsed": false
   },
   "source": [
    "### Filhos por região"
   ]
  },
  {
   "cell_type": "code",
   "execution_count": 37,
   "id": "f81b28a95a1630a",
   "metadata": {
    "ExecuteTime": {
     "end_time": "2024-07-15T01:36:13.013671Z",
     "start_time": "2024-07-15T01:36:13.009027Z"
    },
    "collapsed": false
   },
   "outputs": [
    {
     "name": "stdout",
     "output_type": "stream",
     "text": [
      "região\n",
      "southeast    207\n",
      "northwest    193\n",
      "southwest    187\n",
      "northeast    177\n",
      "Name: count, dtype: int64\n"
     ]
    }
   ],
   "source": [
    "print(bd_full[bd_full['tem_filho'] == 1]['região'].value_counts())"
   ]
  },
  {
   "cell_type": "markdown",
   "id": "4a9229151a213f6c",
   "metadata": {
    "collapsed": false
   },
   "source": [
    "### Filhos por fx_idade"
   ]
  },
  {
   "cell_type": "code",
   "execution_count": 38,
   "id": "f56eea5f379031a0",
   "metadata": {
    "ExecuteTime": {
     "end_time": "2024-07-15T01:36:13.018313Z",
     "start_time": "2024-07-15T01:36:13.013671Z"
    },
    "collapsed": false
   },
   "outputs": [
    {
     "name": "stdout",
     "output_type": "stream",
     "text": [
      "fx_idade\n",
      "adulto    406\n",
      "jovem     196\n",
      "idoso     162\n",
      "Name: count, dtype: int64\n"
     ]
    }
   ],
   "source": [
    "print(bd_full[bd_full['tem_filho'] == 1]['fx_idade'].value_counts())\n"
   ]
  },
  {
   "cell_type": "markdown",
   "id": "7274dc1138643265",
   "metadata": {
    "collapsed": false
   },
   "source": [
    "### Filhos por gênero "
   ]
  },
  {
   "cell_type": "code",
   "execution_count": 39,
   "id": "99d2892abf001f93",
   "metadata": {
    "ExecuteTime": {
     "end_time": "2024-07-15T01:36:13.023823Z",
     "start_time": "2024-07-15T01:36:13.018313Z"
    },
    "collapsed": false
   },
   "outputs": [
    {
     "name": "stdout",
     "output_type": "stream",
     "text": [
      "gênero\n",
      "male      391\n",
      "female    373\n",
      "Name: count, dtype: int64\n"
     ]
    }
   ],
   "source": [
    "print(bd_full[bd_full['tem_filho'] == 1]['gênero'].value_counts())\n"
   ]
  },
  {
   "cell_type": "markdown",
   "id": "8d284d373d6dc429",
   "metadata": {
    "collapsed": false
   },
   "source": [
    "### Filhos por fumantes"
   ]
  },
  {
   "cell_type": "code",
   "execution_count": 40,
   "id": "2ff436aa84b39944",
   "metadata": {
    "ExecuteTime": {
     "end_time": "2024-07-15T01:36:13.029395Z",
     "start_time": "2024-07-15T01:36:13.023823Z"
    },
    "collapsed": false
   },
   "outputs": [
    {
     "name": "stdout",
     "output_type": "stream",
     "text": [
      "fumante\n",
      "9    605\n",
      "1    159\n",
      "Name: count, dtype: int64\n"
     ]
    }
   ],
   "source": [
    "print(bd_full[bd_full['tem_filho'] == 1]['fumante'].value_counts())\n"
   ]
  },
  {
   "cell_type": "markdown",
   "id": "31b0481dea5fcd1a",
   "metadata": {
    "collapsed": false
   },
   "source": [
    "### Fumantes por sexo"
   ]
  },
  {
   "cell_type": "code",
   "execution_count": 41,
   "id": "77ea56015135f5e9",
   "metadata": {
    "ExecuteTime": {
     "end_time": "2024-07-15T01:36:13.097981Z",
     "start_time": "2024-07-15T01:36:13.094706Z"
    },
    "collapsed": false
   },
   "outputs": [
    {
     "name": "stdout",
     "output_type": "stream",
     "text": [
      "Series([], Name: count, dtype: int64)\n"
     ]
    }
   ],
   "source": [
    "print(bd_full[bd_full['fumante'] == 'yes']['gênero'].value_counts())"
   ]
  },
  {
   "cell_type": "markdown",
   "id": "cdc1fe2f461d5e6e",
   "metadata": {
    "collapsed": false
   },
   "source": [
    "# Regressão Linear"
   ]
  },
  {
   "cell_type": "markdown",
   "id": "cd781ebc67888589",
   "metadata": {
    "collapsed": false
   },
   "source": [
    "### Funções "
   ]
  },
  {
   "cell_type": "code",
   "execution_count": 42,
   "id": "b2e5d0b015f5940b",
   "metadata": {
    "ExecuteTime": {
     "end_time": "2024-07-15T01:36:13.102436Z",
     "start_time": "2024-07-15T01:36:13.098985Z"
    },
    "collapsed": false
   },
   "outputs": [],
   "source": [
    "# Função para treinar o modelo\n",
    "def train_model(x, y):\n",
    "    model = LinearRegression()\n",
    "    model.fit(x,y)\n",
    "    return model\n",
    "\n",
    "# Função para avaliar modelo\n",
    "def evaluate_model(model, x_test, y_test):\n",
    "    y_pred = model.predict(x_test)\n",
    "    acc = 1 - np.sum(np.abs(y_pred - y_test)) / np.sum(y_test)\n",
    "    mape = mean_absolute_percentage_error(y_test, y_pred)\n",
    "    return acc * 100, mape * 100"
   ]
  },
  {
   "cell_type": "markdown",
   "id": "d8f8f8ee4b277fcb",
   "metadata": {
    "collapsed": false
   },
   "source": [
    "### Dividir os dados em treino (70%) e teste (30%)"
   ]
  },
  {
   "cell_type": "code",
   "execution_count": 43,
   "id": "67101b07e96d2e12",
   "metadata": {
    "ExecuteTime": {
     "end_time": "2024-07-15T01:36:13.117450Z",
     "start_time": "2024-07-15T01:36:13.112946Z"
    },
    "collapsed": false
   },
   "outputs": [],
   "source": [
    "train_data, test_data = train_test_split(bd_full, test_size=0.3, random_state=42)"
   ]
  },
  {
   "cell_type": "code",
   "execution_count": 44,
   "id": "9a82dc9982b4b01e",
   "metadata": {
    "ExecuteTime": {
     "end_time": "2024-07-15T01:36:13.127045Z",
     "start_time": "2024-07-15T01:36:13.123961Z"
    },
    "collapsed": false
   },
   "outputs": [],
   "source": [
    "y_train = train_data['encargos']\n",
    "x_train = train_data.drop('encargos', axis=1)\n",
    "y_test = test_data['encargos']\n",
    "x_test = test_data.drop('encargos', axis=1)"
   ]
  },
  {
   "cell_type": "markdown",
   "id": "ebae3fd304b4766d",
   "metadata": {
    "collapsed": false
   },
   "source": [
    "### Tratamento de variáveis"
   ]
  },
  {
   "cell_type": "markdown",
   "id": "f7ba49f60f367eba",
   "metadata": {
    "collapsed": false
   },
   "source": []
  },
  {
   "cell_type": "code",
   "execution_count": 45,
   "id": "9283681bc2458792",
   "metadata": {
    "ExecuteTime": {
     "end_time": "2024-07-15T01:36:13.168002Z",
     "start_time": "2024-07-15T01:36:13.163223Z"
    },
    "collapsed": false
   },
   "outputs": [],
   "source": [
    "x_train['gênero2'] = np.where(x_train['gênero'] == 'female', 2, 1)\n",
    "x_train['fuma'] = np.where(x_train['fumante'] == 'yes', 1, 0)\n",
    "x_train['região2'] = np.where(x_train['região'] == 'northeast', 1, \n",
    "                              np.where(x_train['região'] == 'northwest', 2, \n",
    "                                       np.where(x_train['região'] == 'southeast', 3, 4)))\n",
    "\n",
    "x_train['fx_idade'] = np.where(x_train['idade'] <= 30, 'jovem',\n",
    "                              np.where((x_train['idade'] > 30) & (x_train['idade'] <= 30) & (x_train['idade'] <= 50), 'adulto',\n",
    "                                       np.where((x_train['idade'] >50) & (x_train['idade'] <= 70), 'idoso', \n",
    "                                       'idoso_master')))\n",
    "\n",
    "\n"
   ]
  },
  {
   "cell_type": "markdown",
   "id": "fe4f814c5d477b1a",
   "metadata": {
    "collapsed": false
   },
   "source": [
    "\n",
    "## Converter variáveis categóricas em fatores"
   ]
  },
  {
   "cell_type": "code",
   "execution_count": 46,
   "id": "cbdbcdad93c67199",
   "metadata": {
    "ExecuteTime": {
     "end_time": "2024-07-15T01:36:13.180136Z",
     "start_time": "2024-07-15T01:36:13.168002Z"
    },
    "collapsed": false
   },
   "outputs": [
    {
     "data": {
      "text/html": [
       "<div>\n",
       "<style scoped>\n",
       "    .dataframe tbody tr th:only-of-type {\n",
       "        vertical-align: middle;\n",
       "    }\n",
       "\n",
       "    .dataframe tbody tr th {\n",
       "        vertical-align: top;\n",
       "    }\n",
       "\n",
       "    .dataframe thead th {\n",
       "        text-align: right;\n",
       "    }\n",
       "</style>\n",
       "<table border=\"1\" class=\"dataframe\">\n",
       "  <thead>\n",
       "    <tr style=\"text-align: right;\">\n",
       "      <th></th>\n",
       "      <th>idade</th>\n",
       "      <th>imc</th>\n",
       "      <th>filhos</th>\n",
       "      <th>tem_filho</th>\n",
       "      <th>gênero2</th>\n",
       "      <th>região2</th>\n",
       "      <th>fuma</th>\n",
       "      <th>fx_idade_idoso_master</th>\n",
       "      <th>fx_idade_jovem</th>\n",
       "      <th>região_northwest</th>\n",
       "      <th>região_southeast</th>\n",
       "      <th>região_southwest</th>\n",
       "      <th>fumante_9</th>\n",
       "      <th>gênero_male</th>\n",
       "      <th>imc_table_Acima do peso</th>\n",
       "      <th>imc_table_Obesidade I</th>\n",
       "      <th>imc_table_Obesidade II</th>\n",
       "      <th>imc_table_Obesidade III</th>\n",
       "      <th>imc_table_Peso normal</th>\n",
       "    </tr>\n",
       "  </thead>\n",
       "  <tbody>\n",
       "    <tr>\n",
       "      <th>332</th>\n",
       "      <td>61</td>\n",
       "      <td>31.160</td>\n",
       "      <td>0</td>\n",
       "      <td>0</td>\n",
       "      <td>2</td>\n",
       "      <td>2</td>\n",
       "      <td>0</td>\n",
       "      <td>False</td>\n",
       "      <td>False</td>\n",
       "      <td>True</td>\n",
       "      <td>False</td>\n",
       "      <td>False</td>\n",
       "      <td>True</td>\n",
       "      <td>False</td>\n",
       "      <td>False</td>\n",
       "      <td>True</td>\n",
       "      <td>False</td>\n",
       "      <td>False</td>\n",
       "      <td>False</td>\n",
       "    </tr>\n",
       "    <tr>\n",
       "      <th>355</th>\n",
       "      <td>46</td>\n",
       "      <td>27.600</td>\n",
       "      <td>0</td>\n",
       "      <td>0</td>\n",
       "      <td>1</td>\n",
       "      <td>4</td>\n",
       "      <td>0</td>\n",
       "      <td>True</td>\n",
       "      <td>False</td>\n",
       "      <td>False</td>\n",
       "      <td>False</td>\n",
       "      <td>True</td>\n",
       "      <td>True</td>\n",
       "      <td>True</td>\n",
       "      <td>True</td>\n",
       "      <td>False</td>\n",
       "      <td>False</td>\n",
       "      <td>False</td>\n",
       "      <td>False</td>\n",
       "    </tr>\n",
       "    <tr>\n",
       "      <th>138</th>\n",
       "      <td>54</td>\n",
       "      <td>31.900</td>\n",
       "      <td>3</td>\n",
       "      <td>1</td>\n",
       "      <td>2</td>\n",
       "      <td>3</td>\n",
       "      <td>0</td>\n",
       "      <td>False</td>\n",
       "      <td>False</td>\n",
       "      <td>False</td>\n",
       "      <td>True</td>\n",
       "      <td>False</td>\n",
       "      <td>True</td>\n",
       "      <td>False</td>\n",
       "      <td>False</td>\n",
       "      <td>True</td>\n",
       "      <td>False</td>\n",
       "      <td>False</td>\n",
       "      <td>False</td>\n",
       "    </tr>\n",
       "    <tr>\n",
       "      <th>381</th>\n",
       "      <td>55</td>\n",
       "      <td>30.685</td>\n",
       "      <td>0</td>\n",
       "      <td>0</td>\n",
       "      <td>1</td>\n",
       "      <td>1</td>\n",
       "      <td>0</td>\n",
       "      <td>False</td>\n",
       "      <td>False</td>\n",
       "      <td>False</td>\n",
       "      <td>False</td>\n",
       "      <td>False</td>\n",
       "      <td>False</td>\n",
       "      <td>True</td>\n",
       "      <td>False</td>\n",
       "      <td>True</td>\n",
       "      <td>False</td>\n",
       "      <td>False</td>\n",
       "      <td>False</td>\n",
       "    </tr>\n",
       "    <tr>\n",
       "      <th>292</th>\n",
       "      <td>25</td>\n",
       "      <td>45.540</td>\n",
       "      <td>2</td>\n",
       "      <td>1</td>\n",
       "      <td>1</td>\n",
       "      <td>3</td>\n",
       "      <td>0</td>\n",
       "      <td>False</td>\n",
       "      <td>True</td>\n",
       "      <td>False</td>\n",
       "      <td>True</td>\n",
       "      <td>False</td>\n",
       "      <td>False</td>\n",
       "      <td>True</td>\n",
       "      <td>False</td>\n",
       "      <td>False</td>\n",
       "      <td>False</td>\n",
       "      <td>True</td>\n",
       "      <td>False</td>\n",
       "    </tr>\n",
       "    <tr>\n",
       "      <th>...</th>\n",
       "      <td>...</td>\n",
       "      <td>...</td>\n",
       "      <td>...</td>\n",
       "      <td>...</td>\n",
       "      <td>...</td>\n",
       "      <td>...</td>\n",
       "      <td>...</td>\n",
       "      <td>...</td>\n",
       "      <td>...</td>\n",
       "      <td>...</td>\n",
       "      <td>...</td>\n",
       "      <td>...</td>\n",
       "      <td>...</td>\n",
       "      <td>...</td>\n",
       "      <td>...</td>\n",
       "      <td>...</td>\n",
       "      <td>...</td>\n",
       "      <td>...</td>\n",
       "      <td>...</td>\n",
       "    </tr>\n",
       "    <tr>\n",
       "      <th>1095</th>\n",
       "      <td>18</td>\n",
       "      <td>31.350</td>\n",
       "      <td>4</td>\n",
       "      <td>1</td>\n",
       "      <td>2</td>\n",
       "      <td>1</td>\n",
       "      <td>0</td>\n",
       "      <td>False</td>\n",
       "      <td>True</td>\n",
       "      <td>False</td>\n",
       "      <td>False</td>\n",
       "      <td>False</td>\n",
       "      <td>True</td>\n",
       "      <td>False</td>\n",
       "      <td>False</td>\n",
       "      <td>True</td>\n",
       "      <td>False</td>\n",
       "      <td>False</td>\n",
       "      <td>False</td>\n",
       "    </tr>\n",
       "    <tr>\n",
       "      <th>1130</th>\n",
       "      <td>39</td>\n",
       "      <td>23.870</td>\n",
       "      <td>5</td>\n",
       "      <td>1</td>\n",
       "      <td>2</td>\n",
       "      <td>3</td>\n",
       "      <td>0</td>\n",
       "      <td>True</td>\n",
       "      <td>False</td>\n",
       "      <td>False</td>\n",
       "      <td>True</td>\n",
       "      <td>False</td>\n",
       "      <td>True</td>\n",
       "      <td>False</td>\n",
       "      <td>False</td>\n",
       "      <td>False</td>\n",
       "      <td>False</td>\n",
       "      <td>False</td>\n",
       "      <td>True</td>\n",
       "    </tr>\n",
       "    <tr>\n",
       "      <th>1294</th>\n",
       "      <td>58</td>\n",
       "      <td>25.175</td>\n",
       "      <td>0</td>\n",
       "      <td>0</td>\n",
       "      <td>1</td>\n",
       "      <td>1</td>\n",
       "      <td>0</td>\n",
       "      <td>False</td>\n",
       "      <td>False</td>\n",
       "      <td>False</td>\n",
       "      <td>False</td>\n",
       "      <td>False</td>\n",
       "      <td>True</td>\n",
       "      <td>True</td>\n",
       "      <td>True</td>\n",
       "      <td>False</td>\n",
       "      <td>False</td>\n",
       "      <td>False</td>\n",
       "      <td>False</td>\n",
       "    </tr>\n",
       "    <tr>\n",
       "      <th>860</th>\n",
       "      <td>37</td>\n",
       "      <td>47.600</td>\n",
       "      <td>2</td>\n",
       "      <td>1</td>\n",
       "      <td>2</td>\n",
       "      <td>4</td>\n",
       "      <td>0</td>\n",
       "      <td>True</td>\n",
       "      <td>False</td>\n",
       "      <td>False</td>\n",
       "      <td>False</td>\n",
       "      <td>True</td>\n",
       "      <td>False</td>\n",
       "      <td>False</td>\n",
       "      <td>False</td>\n",
       "      <td>False</td>\n",
       "      <td>False</td>\n",
       "      <td>True</td>\n",
       "      <td>False</td>\n",
       "    </tr>\n",
       "    <tr>\n",
       "      <th>1126</th>\n",
       "      <td>55</td>\n",
       "      <td>29.900</td>\n",
       "      <td>0</td>\n",
       "      <td>0</td>\n",
       "      <td>1</td>\n",
       "      <td>4</td>\n",
       "      <td>0</td>\n",
       "      <td>False</td>\n",
       "      <td>False</td>\n",
       "      <td>False</td>\n",
       "      <td>False</td>\n",
       "      <td>True</td>\n",
       "      <td>True</td>\n",
       "      <td>True</td>\n",
       "      <td>True</td>\n",
       "      <td>False</td>\n",
       "      <td>False</td>\n",
       "      <td>False</td>\n",
       "      <td>False</td>\n",
       "    </tr>\n",
       "  </tbody>\n",
       "</table>\n",
       "<p>936 rows × 19 columns</p>\n",
       "</div>"
      ],
      "text/plain": [
       "      idade     imc  filhos  tem_filho  gênero2  região2  fuma  \\\n",
       "332      61  31.160       0          0        2        2     0   \n",
       "355      46  27.600       0          0        1        4     0   \n",
       "138      54  31.900       3          1        2        3     0   \n",
       "381      55  30.685       0          0        1        1     0   \n",
       "292      25  45.540       2          1        1        3     0   \n",
       "...     ...     ...     ...        ...      ...      ...   ...   \n",
       "1095     18  31.350       4          1        2        1     0   \n",
       "1130     39  23.870       5          1        2        3     0   \n",
       "1294     58  25.175       0          0        1        1     0   \n",
       "860      37  47.600       2          1        2        4     0   \n",
       "1126     55  29.900       0          0        1        4     0   \n",
       "\n",
       "      fx_idade_idoso_master  fx_idade_jovem  região_northwest  \\\n",
       "332                   False           False              True   \n",
       "355                    True           False             False   \n",
       "138                   False           False             False   \n",
       "381                   False           False             False   \n",
       "292                   False            True             False   \n",
       "...                     ...             ...               ...   \n",
       "1095                  False            True             False   \n",
       "1130                   True           False             False   \n",
       "1294                  False           False             False   \n",
       "860                    True           False             False   \n",
       "1126                  False           False             False   \n",
       "\n",
       "      região_southeast  região_southwest  fumante_9  gênero_male  \\\n",
       "332              False             False       True        False   \n",
       "355              False              True       True         True   \n",
       "138               True             False       True        False   \n",
       "381              False             False      False         True   \n",
       "292               True             False      False         True   \n",
       "...                ...               ...        ...          ...   \n",
       "1095             False             False       True        False   \n",
       "1130              True             False       True        False   \n",
       "1294             False             False       True         True   \n",
       "860              False              True      False        False   \n",
       "1126             False              True       True         True   \n",
       "\n",
       "      imc_table_Acima do peso  imc_table_Obesidade I  imc_table_Obesidade II  \\\n",
       "332                     False                   True                   False   \n",
       "355                      True                  False                   False   \n",
       "138                     False                   True                   False   \n",
       "381                     False                   True                   False   \n",
       "292                     False                  False                   False   \n",
       "...                       ...                    ...                     ...   \n",
       "1095                    False                   True                   False   \n",
       "1130                    False                  False                   False   \n",
       "1294                     True                  False                   False   \n",
       "860                     False                  False                   False   \n",
       "1126                     True                  False                   False   \n",
       "\n",
       "      imc_table_Obesidade III  imc_table_Peso normal  \n",
       "332                     False                  False  \n",
       "355                     False                  False  \n",
       "138                     False                  False  \n",
       "381                     False                  False  \n",
       "292                      True                  False  \n",
       "...                       ...                    ...  \n",
       "1095                    False                  False  \n",
       "1130                    False                   True  \n",
       "1294                    False                  False  \n",
       "860                      True                  False  \n",
       "1126                    False                  False  \n",
       "\n",
       "[936 rows x 19 columns]"
      ]
     },
     "execution_count": 46,
     "metadata": {},
     "output_type": "execute_result"
    }
   ],
   "source": [
    "# Criar dummies para as variáveis categóricas\n",
    "x_train = pd.get_dummies(x_train, columns=['fx_idade', 'região', 'fumante', 'gênero', 'imc_table'], drop_first=True)\n",
    "x_train_cols = x_train.columns\n",
    "\n",
    "x_train"
   ]
  },
  {
   "cell_type": "markdown",
   "id": "ac64676526f31548",
   "metadata": {
    "collapsed": false
   },
   "source": [
    "## Modelos"
   ]
  },
  {
   "cell_type": "code",
   "execution_count": 47,
   "id": "fbdd6d8a022f5ef4",
   "metadata": {
    "ExecuteTime": {
     "end_time": "2024-07-15T01:36:13.185902Z",
     "start_time": "2024-07-15T01:36:13.181141Z"
    },
    "collapsed": false
   },
   "outputs": [],
   "source": [
    "model1 = train_model(x_train[['idade', 'gênero2', 'imc', 'filhos', 'fuma', 'região2']], y_train)\n",
    "model2 = train_model(x_train[['idade', 'gênero2', 'imc', 'fuma']], y_train)"
   ]
  },
  {
   "cell_type": "markdown",
   "id": "4f145a5359955505",
   "metadata": {
    "collapsed": false
   },
   "source": [
    "## Categorizar a idade e treinar o modelo"
   ]
  },
  {
   "cell_type": "markdown",
   "id": "207ee876a6da7014",
   "metadata": {
    "collapsed": false
   },
   "source": []
  },
  {
   "cell_type": "code",
   "execution_count": 48,
   "id": "351bcee6d1fbf0b7",
   "metadata": {
    "ExecuteTime": {
     "end_time": "2024-07-15T01:36:13.191027Z",
     "start_time": "2024-07-15T01:36:13.186905Z"
    },
    "collapsed": false
   },
   "outputs": [],
   "source": [
    "model3 = train_model(x_train, y_train)"
   ]
  },
  {
   "cell_type": "markdown",
   "id": "ce6ec79b5ba33cf8",
   "metadata": {
    "collapsed": false
   },
   "source": [
    "### Transformar os dados de teste da mesma maneira que os dados de treino"
   ]
  },
  {
   "cell_type": "code",
   "execution_count": 49,
   "id": "e600ecbe8afeab79",
   "metadata": {
    "ExecuteTime": {
     "end_time": "2024-07-15T01:36:13.196481Z",
     "start_time": "2024-07-15T01:36:13.191027Z"
    },
    "collapsed": false
   },
   "outputs": [],
   "source": [
    "x_test['gênero2'] = np.where(x_test['gênero'] == 'female', 2, 1)\n",
    "x_test['fuma'] = np.where(x_test['fumante'] == 'yes', 1, 0)\n",
    "x_test['região2'] = np.where(x_test['região'] == 'northeast', 1,\n",
    "                             np.where(x_test['região'] == 'northwest', 2,\n",
    "                                      np.where(x_test['região'] == 'southeast', 3,4)))\n",
    "x_test['fx_idade'] = np.where(x_test['idade'] <= 30, 'jovem',\n",
    "                              np.where((x_test['idade'] > 30) & (x_test['idade'] <= 50), 'adulto',\n",
    "                                       np.where((x_test['idade'] > 50) & (x_test['idade'] <= 70), 'idoso',\n",
    "                                                'idoso_master')))\n"
   ]
  },
  {
   "cell_type": "markdown",
   "id": "72985451cf373efe",
   "metadata": {
    "collapsed": false
   },
   "source": []
  },
  {
   "cell_type": "markdown",
   "id": "debaf3c376e8f92a",
   "metadata": {
    "collapsed": false
   },
   "source": [
    "### Converter variáveis categóricas em dummies e reindexar para garantir que todas as colunas estejam presentes"
   ]
  },
  {
   "cell_type": "code",
   "execution_count": 50,
   "id": "a591f3ab3fea1312",
   "metadata": {
    "ExecuteTime": {
     "end_time": "2024-07-15T01:36:13.203420Z",
     "start_time": "2024-07-15T01:36:13.196992Z"
    },
    "collapsed": false
   },
   "outputs": [],
   "source": [
    "x_test = pd.get_dummies(x_test, columns=['fx_idade', 'região', 'fumante', 'gênero', 'imc_table'], drop_first=True)\n",
    "x_test = x_test.reindex(columns=x_train_cols, fill_value=0)"
   ]
  },
  {
   "cell_type": "markdown",
   "id": "6dc884888c3be0b7",
   "metadata": {
    "collapsed": false
   },
   "source": [
    "## Predições e avaliações"
   ]
  },
  {
   "cell_type": "code",
   "execution_count": 51,
   "id": "fa6a2775aa014aec",
   "metadata": {
    "ExecuteTime": {
     "end_time": "2024-07-15T01:36:13.221066Z",
     "start_time": "2024-07-15T01:36:13.214863Z"
    },
    "collapsed": false
   },
   "outputs": [],
   "source": [
    "x_test_new1 = x_test[['idade', 'gênero2', 'imc', 'filhos', 'fuma', 'região2']]\n",
    "acc1, mape1 = evaluate_model(model1, x_test_new1, y_test)\n",
    "\n",
    "x_test_new2 = x_test[['idade', 'gênero2', 'imc', 'fuma']]\n",
    "acc2, mape2 = evaluate_model(model2, x_test_new2, y_test)\n",
    "\n",
    "acc3, mape3 = evaluate_model(model3, x_test, y_test)"
   ]
  },
  {
   "cell_type": "code",
   "execution_count": 52,
   "id": "1b97beb2dd8b295a",
   "metadata": {
    "ExecuteTime": {
     "end_time": "2024-07-15T01:36:13.234091Z",
     "start_time": "2024-07-15T01:36:13.231428Z"
    },
    "collapsed": false
   },
   "outputs": [
    {
     "name": "stdout",
     "output_type": "stream",
     "text": [
      "Modelo 1 - Acurácia: 30.90%, MAPE: 117.08%\n",
      "Modelo 2 - Acurácia: 30.62%, MAPE: 120.62%\n",
      "Modelo 3 - Acurácia: 67.05%, MAPE: 49.32%\n"
     ]
    }
   ],
   "source": [
    "print(f\"Modelo 1 - Acurácia: {acc1:.2f}%, MAPE: {mape1:.2f}%\")\n",
    "print(f\"Modelo 2 - Acurácia: {acc2:.2f}%, MAPE: {mape2:.2f}%\")\n",
    "print(f\"Modelo 3 - Acurácia: {acc3:.2f}%, MAPE: {mape3:.2f}%\")"
   ]
  }
 ],
 "metadata": {
  "kernelspec": {
   "display_name": "Python 3",
   "language": "python",
   "name": "python3"
  },
  "language_info": {
   "codemirror_mode": {
    "name": "ipython",
    "version": 2
   },
   "file_extension": ".py",
   "mimetype": "text/x-python",
   "name": "python",
   "nbconvert_exporter": "python",
   "pygments_lexer": "ipython2",
   "version": "2.7.6"
  }
 },
 "nbformat": 4,
 "nbformat_minor": 5
}
