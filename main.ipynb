{
 "cells": [
  {
   "cell_type": "markdown",
   "metadata": {},
   "source": [
    "# Passo 0: Setup"
   ]
  },
  {
   "cell_type": "markdown",
   "metadata": {},
   "source": [
    "## Prepare environment"
   ]
  },
  {
   "cell_type": "code",
   "execution_count": null,
   "metadata": {},
   "outputs": [],
   "source": [
    "!pip install scikit-learn==1.2.2"
   ]
  },
  {
   "cell_type": "markdown",
   "metadata": {},
   "source": [
    "## Criando as constantes"
   ]
  },
  {
   "cell_type": "code",
   "execution_count": 3,
   "metadata": {},
   "outputs": [],
   "source": [
    "class Constants:\n",
    "    MIN_AGE = 18\n",
    "    MAX_AGE = 120\n",
    "    MIN_IMC = 0.0\n",
    "    MAX_IMC = 50.0\n",
    "    MIN_CHILDREN = 0\n",
    "    MAX_CHILDREN = 10\n",
    "    SEXO_MAP = {\n",
    "        \"masculino\": 0,\n",
    "        \"feminino\": 1\n",
    "    }\n",
    "    FUMANTE_MAP = {\n",
    "        \"nao\": 0,\n",
    "        \"sim\": 1\n",
    "    }\n",
    "    REGIAO_MAP = {\n",
    "        \"norte\": 0,\n",
    "        \"nordeste\": 1,\n",
    "        \"centro oeste\": 2,\n",
    "        \"sul\": 3,\n",
    "        \"sudeste\": 4\n",
    "    }"
   ]
  },
  {
   "cell_type": "markdown",
   "metadata": {},
   "source": [
    "## Criando a classe Util"
   ]
  },
  {
   "cell_type": "code",
   "execution_count": 4,
   "metadata": {},
   "outputs": [],
   "source": [
    "from sklearn.metrics import mean_absolute_error, mean_squared_error, r2_score\n",
    "import numpy as np\n",
    "\n",
    "class Util:\n",
    "\n",
    "    @staticmethod\n",
    "    def calculate_rmse(mse):\n",
    "        return np.sqrt(mse)\n",
    "\n",
    "\n",
    "    @staticmethod\n",
    "    def calculate_mape(labels, predictions):\n",
    "        errors = np.abs(labels - predictions)\n",
    "        relative_errors = errors / np.abs(labels)\n",
    "        mape = np.mean(relative_errors) * 100\n",
    "        return mape\n",
    "\n",
    "    @staticmethod\n",
    "    def evaluate(model, x_test, y_test):\n",
    "        y_pred = model.predict(x_test)\n",
    "        mse = mean_squared_error(y_test, y_pred)\n",
    "        rmse = Util.calculate_rmse(mse)\n",
    "        r2 = r2_score(y_test, y_pred)\n",
    "        mae = mean_absolute_error(y_test, y_pred)\n",
    "        mape =  Util.calculate_mape(y_test, y_pred)\n",
    "        print(f'Mean squared error: {mse}')\n",
    "        print(f'Sqrt Mean squared error: {rmse}')\n",
    "        print(f'R2 score: {r2}')\n",
    "        print(f'Mean absolute error: {mae}')\n",
    "        print(f'MAPE: {mape:.2f}%')"
   ]
  },
  {
   "cell_type": "markdown",
   "metadata": {},
   "source": [
    "## Criando a classe SaveManager"
   ]
  },
  {
   "cell_type": "code",
   "execution_count": 5,
   "metadata": {},
   "outputs": [],
   "source": [
    "import joblib\n",
    "\n",
    "class SaveModelManager:\n",
    "\n",
    "    @staticmethod\n",
    "    def save_model(model, filename):\n",
    "        joblib.dump(model, f'model/{filename}')\n",
    "        print(f'Saved model: {filename}')\n",
    "\n",
    "    @staticmethod\n",
    "    def load_model(filename):\n",
    "        model = joblib.load(filename)\n",
    "        return model"
   ]
  },
  {
   "cell_type": "markdown",
   "metadata": {},
   "source": [
    "## Criando as classes TrainModel"
   ]
  },
  {
   "cell_type": "code",
   "execution_count": 6,
   "metadata": {},
   "outputs": [],
   "source": [
    "from sklearn.model_selection import train_test_split\n",
    "from sklearn.linear_model import LinearRegression, Ridge, Lasso, ElasticNet\n",
    "from sklearn.ensemble import GradientBoostingRegressor, RandomForestRegressor\n",
    "from sklearn.svm import SVR\n",
    "import matplotlib.pyplot as plt\n",
    "\n",
    "class TrainModelBase:\n",
    "\n",
    "    def __init__(self, p_name):\n",
    "        self.name_model = p_name\n",
    "        self.model = None\n",
    "        self.x_train = None\n",
    "        self.x_test = None\n",
    "        self.y_train = None\n",
    "        self.y_test = None\n",
    "        self.random_state = 42\n",
    "\n",
    "\n",
    "    def train(self, X, y, test_size):\n",
    "        self.x_train, self.x_test, self.y_train, self.y_test = train_test_split(X, y, test_size=test_size, random_state=self.random_state)\n",
    "        print(len(self.x_train), \"training +\", len(self.x_test), \"tests\")\n",
    "        print(len(self.y_train), \"training +\", len(self.y_test), \"tests\")\n",
    "        return self.x_train, self.x_test, self.y_train, self.y_test\n",
    "\n",
    "\n",
    "    def get_model(self):\n",
    "        return self.model\n",
    "\n",
    "\n",
    "    def evaluate(self):\n",
    "        Util.evaluate(self.model, self.x_test, self.y_test)\n",
    "\n",
    "\n",
    "    def evaluate_pred(self):\n",
    "        y_pred = self.model.predict(self.x_test)\n",
    "        plt.scatter(self.y_test, y_pred)\n",
    "        plt.xlabel(\"Valores reais\")\n",
    "        plt.ylabel(\"Previsões\")\n",
    "        plt.title(\"Comparando\")\n",
    "        plt.show()\n",
    "\n",
    "\n",
    "    def save(self):\n",
    "        filename = self.name_model + '.pkl'\n",
    "        SaveModelManager.save_model(self.model, filename)\n",
    "\n",
    "\n",
    "class TrainModelLinearRegression(TrainModelBase):\n",
    "\n",
    "    def generate_model(self):\n",
    "        self.model = LinearRegression()\n",
    "        self.model.fit(self.x_train, self.y_train)\n",
    "        return self.model\n",
    "\n",
    "\n",
    "class TrainModelRidgeRegression(TrainModelBase):\n",
    "\n",
    "    def generate_model(self):\n",
    "        self.model = Ridge(alpha=1.0, random_state=self.random_state)\n",
    "        self.model.fit(self.x_train, self.y_train)\n",
    "        return self.model\n",
    "\n",
    "\n",
    "class TrainModelLassoRegression(TrainModelBase):\n",
    "\n",
    "    def generate_model(self):\n",
    "        self.model = Lasso(alpha=0.1, random_state=self.random_state)\n",
    "        self.model.fit(self.x_train, self.y_train)\n",
    "        return self.model\n",
    "\n",
    "\n",
    "class TrainModelElasticNetRegression(TrainModelBase):\n",
    "\n",
    "    def generate_model(self):\n",
    "        self.model = ElasticNet(alpha=0.1, l1_ratio=0.5, random_state=self.random_state)\n",
    "        self.model.fit(self.x_train, self.y_train)\n",
    "        return self.model\n",
    "\n",
    "\n",
    "class TrainModelGradientBoostingRegressor(TrainModelBase):\n",
    "\n",
    "    def generate_model(self):\n",
    "        self.model = GradientBoostingRegressor(random_state=self.random_state)\n",
    "        self.model.fit(self.x_train, self.y_train)\n",
    "        return self.model\n",
    "\n",
    "\n",
    "class TrainModelSupportVectorRegression(TrainModelBase):\n",
    "\n",
    "    def generate_model(self):\n",
    "        self.model = SVR(kernel='linear')\n",
    "        self.model.fit(self.x_train, self.y_train)\n",
    "        return self.model\n",
    "\n",
    "\n",
    "class TrainModelRandomForestRegressor(TrainModelBase):\n",
    "\n",
    "    def generate_model(self):\n",
    "        self.model = RandomForestRegressor(n_estimators=100, random_state=self.random_state)\n",
    "        self.model.fit(self.x_train, self.y_train)\n",
    "        return self.model\n"
   ]
  },
  {
   "cell_type": "markdown",
   "metadata": {},
   "source": [
    "## Criando o app UI"
   ]
  },
  {
   "cell_type": "markdown",
   "metadata": {},
   "source": [
    "# App UI"
   ]
  },
  {
   "cell_type": "code",
   "execution_count": 12,
   "metadata": {},
   "outputs": [],
   "source": [
    "import ipywidgets as widgets\n",
    "from IPython.display import display, clear_output\n",
    "import pandas as pd\n",
    "import os\n",
    "\n",
    "def build_and_start_app():\n",
    "  model_list = os.listdir('model')\n",
    "  model_list = [file for file in model_list if file.endswith('.pkl')]\n",
    "\n",
    "  title = widgets.HTML(\n",
    "      value=\"<h1 style='text-align: center;'>Previsão de custo de plano de saúde\",\n",
    "      layout=widgets.Layout(margin='10px 0px')\n",
    "  )\n",
    "  model_widget = widgets.Dropdown(options=model_list, description='Modelo:',layout=widgets.Layout(width='75%'))\n",
    "  idade_widget = widgets.IntSlider(value=25, min=Constants.MIN_AGE, max=Constants.MAX_AGE, description='Idade:',layout=widgets.Layout(width='75%'))\n",
    "  sexo_widget = widgets.Dropdown(options=Constants.SEXO_MAP.items(), description='Sexo:',layout=widgets.Layout(width='75%'))\n",
    "  imc_widget = widgets.FloatSlider(value=25.0, min=Constants.MIN_IMC, max=Constants.MAX_IMC, description='IMC:',layout=widgets.Layout(width='75%'))\n",
    "  criancas_widget = widgets.Dropdown(options=list(range(10)), description='Nº crianças:',layout=widgets.Layout(width='75%'))\n",
    "  fumante_widget = widgets.Dropdown(options=Constants.FUMANTE_MAP.items(), description='Fumante:',layout=widgets.Layout(width='75%'))\n",
    "  regiao_widget = widgets.Dropdown(options=Constants.REGIAO_MAP.items(), description='Região:',layout=widgets.Layout(width='75%'))\n",
    "  submit_button = widgets.Button(description=\"Prever custo\", button_style='success', icon='check',layout=widgets.Layout(width='75%'))\n",
    "\n",
    "  output_result_label = widgets.HTML(\n",
    "      value=\"<p style='font-size: 16px; color: #B6B6B6;'>Valor estimado: aguardando execução...</p>\",\n",
    "      layout=widgets.Layout(margin='10px 0px')\n",
    "  )\n",
    "\n",
    "  def prever_custo(b):\n",
    "      if not model_list:\n",
    "        output_result_label.value = f'<p style=\"font-size: 16px; color: #B6B6B6;\">Você ainda não tem nenhum modelo gerado.<br>Cheque a seção <b>Comece aqui</b> para saber mais.</p>'\n",
    "        return\n",
    "      model_saved = SaveModelManager.load_model(f'model/{model_widget.value}')\n",
    "      data = pd.DataFrame({\n",
    "          'idade': [idade_widget.value],\n",
    "          'imc': [imc_widget.value],\n",
    "          'criancas': [criancas_widget.value],\n",
    "          'sexo_1': [bool(sexo_widget.value)],\n",
    "          'fumante_1': [bool(fumante_widget.value)],\n",
    "          'regiao_1': [regiao_widget.value == 1],\n",
    "          'regiao_2': [regiao_widget.value == 2],\n",
    "          'regiao_3': [regiao_widget.value == 3],\n",
    "          'regiao_4': [regiao_widget.value == 4]\n",
    "      })\n",
    "      previsao = model_saved.predict(data)\n",
    "      output_result_label.value = f'<p style=\"font-size: 16px; color: #B6B6B6;\">Modelo executado: {model_widget.value}<br>Valor estimado: R$ {previsao[0]:.2f}</p>'\n",
    "\n",
    "  submit_button.on_click(prever_custo)\n",
    "\n",
    "  form_items = [\n",
    "      title,\n",
    "      model_widget, idade_widget, sexo_widget, imc_widget, criancas_widget, fumante_widget, regiao_widget, submit_button,\n",
    "      output_result_label\n",
    "  ]\n",
    "\n",
    "  form = widgets.VBox(form_items, layout=widgets.Layout(\n",
    "      width='50%',\n",
    "      border='solid 1px lightgray',\n",
    "      padding='10px',\n",
    "      margin='10px'\n",
    "  ))\n",
    "\n",
    "  display(form)"
   ]
  },
  {
   "cell_type": "markdown",
   "metadata": {},
   "source": [
    "## Start App"
   ]
  },
  {
   "cell_type": "code",
   "execution_count": 13,
   "metadata": {},
   "outputs": [
    {
     "data": {
      "application/vnd.jupyter.widget-view+json": {
       "model_id": "c37d6ec305374852bc61c7f8ecb33f4a",
       "version_major": 2,
       "version_minor": 0
      },
      "text/plain": [
       "VBox(children=(HTML(value=\"<h1 style='text-align: center;'>Previsão de custo de plano de saúde\", layout=Layout…"
      ]
     },
     "metadata": {},
     "output_type": "display_data"
    }
   ],
   "source": [
    "build_and_start_app()"
   ]
  }
 ],
 "metadata": {
  "kernelspec": {
   "display_name": "base",
   "language": "python",
   "name": "python3"
  },
  "language_info": {
   "codemirror_mode": {
    "name": "ipython",
    "version": 3
   },
   "file_extension": ".py",
   "mimetype": "text/x-python",
   "name": "python",
   "nbconvert_exporter": "python",
   "pygments_lexer": "ipython3",
   "version": "3.11.7"
  }
 },
 "nbformat": 4,
 "nbformat_minor": 2
}
